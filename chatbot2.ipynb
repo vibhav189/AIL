{
  "nbformat": 4,
  "nbformat_minor": 0,
  "metadata": {
    "colab": {
      "name": "chatbot.ipynb",
      "provenance": [],
      "collapsed_sections": []
    },
    "kernelspec": {
      "name": "python3",
      "display_name": "Python 3"
    },
    "language_info": {
      "name": "python"
    }
  },
  "cells": [
    {
      "cell_type": "code",
      "execution_count": null,
      "metadata": {
        "colab": {
          "base_uri": "https://localhost:8080/"
        },
        "id": "45vhrkAPeD0w",
        "outputId": "314c4cd7-e50e-4164-e58a-18f2cc6fcf4f"
      },
      "outputs": [
        {
          "output_type": "stream",
          "name": "stdout",
          "text": [
            "Requirement already satisfied: chatterbot in /usr/local/lib/python3.7/dist-packages (1.0.8)\n",
            "Requirement already satisfied: sqlalchemy<1.4,>=1.3 in /usr/local/lib/python3.7/dist-packages (from chatterbot) (1.3.24)\n",
            "Requirement already satisfied: python-dateutil<2.9,>=2.8 in /usr/local/lib/python3.7/dist-packages (from chatterbot) (2.8.2)\n",
            "Requirement already satisfied: mathparse<0.2,>=0.1 in /usr/local/lib/python3.7/dist-packages (from chatterbot) (0.1.2)\n",
            "Requirement already satisfied: pytz in /usr/local/lib/python3.7/dist-packages (from chatterbot) (2022.1)\n",
            "Requirement already satisfied: six>=1.5 in /usr/local/lib/python3.7/dist-packages (from python-dateutil<2.9,>=2.8->chatterbot) (1.15.0)\n",
            "Requirement already satisfied: chatterbot_corpus in /usr/local/lib/python3.7/dist-packages (1.2.0)\n",
            "Requirement already satisfied: PyYAML<4.0,>=3.12 in /usr/local/lib/python3.7/dist-packages (from chatterbot_corpus) (3.13)\n"
          ]
        }
      ],
      "source": [
        "!pip install chatterbot\n",
        "!pip install chatterbot_corpus"
      ]
    },
    {
      "cell_type": "code",
      "source": [
        "from chatterbot import ChatBot"
      ],
      "metadata": {
        "id": "gJey4Cx_eKPA"
      },
      "execution_count": null,
      "outputs": []
    },
    {
      "cell_type": "code",
      "source": [
        "bot = ChatBot('Buddy')"
      ],
      "metadata": {
        "id": "q7cssNorebT9"
      },
      "execution_count": null,
      "outputs": []
    },
    {
      "cell_type": "code",
      "source": [
        "bot = ChatBot('Buddy', storage_adapter='chatterbot.storage.SQLStorageAdapter', database_uri='sqlite:///database.sqlite3')"
      ],
      "metadata": {
        "id": "CBXTUbPuf-ee"
      },
      "execution_count": null,
      "outputs": []
    },
    {
      "cell_type": "code",
      "source": [
        "bot = ChatBot('Buddy', logic_adapters=['chatterbot.logic.BestMatch', 'chatterbot.logic.TimeLogicAdapter'])"
      ],
      "metadata": {
        "id": "OxHMIWjTgcmm"
      },
      "execution_count": null,
      "outputs": []
    },
    {
      "cell_type": "code",
      "source": [
        "from chatterbot.trainers import ListTrainer\n",
        "trainer = ListTrainer(bot)\n",
        "trainer.train([\n",
        "               'Hi',\n",
        "               'Hello',\n",
        "               'I need your assistance regarding my order',\n",
        "               'Please provide me with your order id',\n",
        "               'I have a complaint',\n",
        "               'Please elaborate your concern',\n",
        "               'How long will it take to recieve an order'\n",
        "               'An order takes 3-5 days to get delivered',\n",
        "               'Okay Thanks',\n",
        "               'No Problem! Have a good day!'\n",
        "])"
      ],
      "metadata": {
        "colab": {
          "base_uri": "https://localhost:8080/"
        },
        "id": "eMPou71tgy63",
        "outputId": "7dbe7323-6b93-4a3e-d06a-13db91deddbc"
      },
      "execution_count": null,
      "outputs": [
        {
          "output_type": "stream",
          "name": "stdout",
          "text": [
            "List Trainer: [####################] 100%\n"
          ]
        }
      ]
    },
    {
      "cell_type": "code",
      "source": [
        "#Testing\n",
        "response = bot.get_response('I have a complaint')\n",
        "print('Bot response:', response)"
      ],
      "metadata": {
        "colab": {
          "base_uri": "https://localhost:8080/"
        },
        "id": "30ruEotaiBSk",
        "outputId": "a9f8353f-b755-4330-adbb-f7b06ca45b7f"
      },
      "execution_count": null,
      "outputs": [
        {
          "output_type": "stream",
          "name": "stdout",
          "text": [
            "Bot response: Please elaborate your concern\n"
          ]
        }
      ]
    },
    {
      "cell_type": "code",
      "source": [
        "name = input(\"Enter your name:\")\n",
        "print(\"Welcome, How can I help you?\")\n",
        "while True:\n",
        "  request=input(name+':')\n",
        "  if request=='Bye' or request=='bye':\n",
        "    print('Bot:Bye')\n",
        "    break\n",
        "  else:\n",
        "    response=bot.get_response(request)\n",
        "    print('Bot:',response)"
      ],
      "metadata": {
        "colab": {
          "base_uri": "https://localhost:8080/"
        },
        "id": "5amIkxzDiVMl",
        "outputId": "f187a766-f4f0-4e1e-9f2a-2448ca51fb3e"
      },
      "execution_count": null,
      "outputs": [
        {
          "output_type": "stream",
          "name": "stdout",
          "text": [
            "Enter your name:Vibhav\n",
            "Welcome, How can I help you?\n",
            "Vibhav:I need your assistance regarding my order\n",
            "Bot: Please provide me with your order id\n",
            "Vibhav:12345\n",
            "Bot: The current time is 09:30 AM\n",
            "Vibhav:Bye\n",
            "Bot:Bye\n"
          ]
        }
      ]
    },
    {
      "cell_type": "code",
      "source": [
        ""
      ],
      "metadata": {
        "id": "-lrLrgssjV9W"
      },
      "execution_count": null,
      "outputs": []
    }
  ]
}